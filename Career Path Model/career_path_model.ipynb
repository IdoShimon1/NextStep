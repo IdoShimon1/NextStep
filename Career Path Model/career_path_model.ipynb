{
 "cells": [
  {
   "cell_type": "code",
   "execution_count": null,
   "metadata": {},
   "outputs": [],
   "source": [
    "data_path = 'Final Data/data.json'\n",
    "\n",
    "train_ratio = 0.7\n",
    "val_ratio = 0.15\n",
    "test_ratio = 0.15"
   ]
  },
  {
   "cell_type": "code",
   "execution_count": null,
   "metadata": {},
   "outputs": [],
   "source": [
    "import json\n",
    "import random\n",
    "from collections import defaultdict\n",
    "from pathlib import Path\n",
    "import matplotlib.pyplot as plt"
   ]
  },
  {
   "cell_type": "code",
   "execution_count": null,
   "metadata": {},
   "outputs": [],
   "source": [
    "# === 1. Load dataset ===\n",
    "with open(data_path, 'r') as f:\n",
    "    data = json.load(f)"
   ]
  },
  {
   "cell_type": "code",
   "execution_count": null,
   "metadata": {},
   "outputs": [
    {
     "ename": "",
     "evalue": "",
     "output_type": "error",
     "traceback": [
      "\u001b[1;31mRunning cells with 'Python 3.11.9' requires the ipykernel package.\n",
      "\u001b[1;31mRun the following command to install 'ipykernel' into the Python environment. \n",
      "\u001b[1;31mCommand: 'c:/Users/yael.itzkovitch/AppData/Local/Microsoft/WindowsApps/python3.11.exe -m pip install ipykernel -U --user --force-reinstall'"
     ]
    }
   ],
   "source": [
    "# === 2. Group UUIDs by label ===\n",
    "label_to_uuids = defaultdict(list)\n",
    "for uid, profile in data.items():\n",
    "    label = profile.get('label')\n",
    "    if label:\n",
    "        label_to_uuids[label].append(uid)\n",
    "\n"
   ]
  },
  {
   "cell_type": "code",
   "execution_count": null,
   "metadata": {},
   "outputs": [],
   "source": [
    "# === 3. Stratified split ===\n",
    "train_set, val_set, test_set = {}, {}, {}\n",
    "random.seed(42)\n",
    "\n",
    "for label, uuids in label_to_uuids.items():\n",
    "    random.shuffle(uuids)\n",
    "    n = len(uuids)\n",
    "    train_end = int(train_ratio * n)\n",
    "    val_end = train_end + int(val_ratio * n)\n",
    "\n",
    "    train_uuids = uuids[:train_end]\n",
    "    val_uuids = uuids[train_end:val_end]\n",
    "    test_uuids = uuids[val_end:]\n",
    "\n",
    "    for uid in train_uuids:\n",
    "        train_set[uid] = data[uid]\n",
    "    for uid in val_uuids:\n",
    "        val_set[uid] = data[uid]\n",
    "    for uid in test_uuids:\n",
    "        test_set[uid] = data[uid]\n",
    "\n",
    "print(f\"Train size: {len(train_set)}\")\n",
    "print(f\"Validation size: {len(val_set)}\")\n",
    "print(f\"Test size: {len(test_set)}\")\n",
    "\n",
    "\n",
    "# === 4. Plot label distributions ===\n",
    "def plot_label_distribution(dataset, title):\n",
    "    label_counts = defaultdict(int)\n",
    "    for profile in dataset.values():\n",
    "        label = profile.get('label')\n",
    "        if label:\n",
    "            label_counts[label] += 1\n",
    "\n",
    "    labels = list(label_counts.keys())\n",
    "    counts = [label_counts[label] for label in labels]\n",
    "\n",
    "    plt.figure(figsize=(12, 6))\n",
    "    plt.barh(labels, counts, color='skyblue')\n",
    "    plt.xlabel(\"Count\")\n",
    "    plt.title(title)\n",
    "    plt.tight_layout()\n",
    "    plt.show()\n",
    "\n",
    "plot_label_distribution(train_set, \"Train Set Label Distribution\")\n",
    "plot_label_distribution(val_set, \"Validation Set Label Distribution\")\n",
    "plot_label_distribution(test_set, \"Test Set Label Distribution\")\n"
   ]
  }
 ],
 "metadata": {
  "kernelspec": {
   "display_name": "Python 3",
   "language": "python",
   "name": "python3"
  },
  "language_info": {
   "name": "python",
   "version": "3.11.9"
  }
 },
 "nbformat": 4,
 "nbformat_minor": 2
}
